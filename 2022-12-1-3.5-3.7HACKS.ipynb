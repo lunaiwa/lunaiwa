{
 "cells": [
  {
   "attachments": {},
   "cell_type": "markdown",
   "metadata": {},
   "source": [
    "# Unit 3.5-3.7 HACKS\n",
    "> Review ticket for Unit 3 Sections 5 and 7\n",
    "\n",
    "- title: Unit 3.5-3.7 HACKS\n",
    "- toc: true\n",
    "- comments: true\n",
    "- categories: [unit 3][section 5][section 7]"
   ]
  },
  {
   "attachments": {},
   "cell_type": "markdown",
   "metadata": {},
   "source": [
    "<hr/>"
   ]
  },
  {
   "attachments": {},
   "cell_type": "markdown",
   "metadata": {},
   "source": [
    "### Essential Knowledge Questions"
   ]
  },
  {
   "attachments": {},
   "cell_type": "markdown",
   "metadata": {},
   "source": [
    "1. Explain in your own words what each logical operator does"
   ]
  },
  {
   "attachments": {},
   "cell_type": "markdown",
   "metadata": {},
   "source": [
    "a. NOT : displays opposite of data inputted\n",
    "b. AND : determine if two conditions are met\n",
    "c. OR : determine if one of the conditions is met"
   ]
  },
  {
   "attachments": {},
   "cell_type": "markdown",
   "metadata": {},
   "source": [
    "<hr/>"
   ]
  },
  {
   "attachments": {},
   "cell_type": "markdown",
   "metadata": {},
   "source": [
    "### Logical Operators"
   ]
  },
  {
   "attachments": {},
   "cell_type": "markdown",
   "metadata": {},
   "source": [
    "Code your own scenario that makes sense for each logical operator"
   ]
  },
  {
   "attachments": {},
   "cell_type": "markdown",
   "metadata": {},
   "source": [
    "AND"
   ]
  },
  {
   "cell_type": "code",
   "execution_count": null,
   "metadata": {},
   "outputs": [],
   "source": [
    "water = 10\n",
    "if water > 5 and water <= 20:\n",
    "    print(\"drink more water\")"
   ]
  },
  {
   "attachments": {},
   "cell_type": "markdown",
   "metadata": {},
   "source": [
    "OR"
   ]
  },
  {
   "cell_type": "code",
   "execution_count": null,
   "metadata": {},
   "outputs": [],
   "source": [
    "water = 1\n",
    "ice = 21\n",
    "if water <= 0 or ice > 20:\n",
    "    print(\"too cold\")"
   ]
  },
  {
   "attachments": {},
   "cell_type": "markdown",
   "metadata": {},
   "source": [
    "NOT"
   ]
  },
  {
   "cell_type": "code",
   "execution_count": null,
   "metadata": {},
   "outputs": [],
   "source": [
    "clouds = False\n",
    "result = not(clouds)\n",
    "print(result)"
   ]
  },
  {
   "attachments": {},
   "cell_type": "markdown",
   "metadata": {},
   "source": [
    "<hr/>"
   ]
  },
  {
   "attachments": {},
   "cell_type": "markdown",
   "metadata": {},
   "source": [
    "### Grader"
   ]
  },
  {
   "attachments": {},
   "cell_type": "markdown",
   "metadata": {},
   "source": [
    "Create an array with integers, each integer representing one score from a student's taken tests. If the average of the student's test scores are at least 75 percent, then display that the student is elligible for credit, and if not, display that the student must retake the tests over break. "
   ]
  },
  {
   "cell_type": "code",
   "execution_count": null,
   "metadata": {},
   "outputs": [],
   "source": [
    "# list of grades and the average\n",
    "grades = ['30', '80', '90', '89', '75', '60']\n",
    "average = sum(grades)/len(grades)\n",
    "# printing extra credit\n",
    "if average > 75:\n",
    "    print(\"extra credit!\")\n",
    "# if less then 75\n",
    "if average < 75:\n",
    "    print (\"retake :(\")"
   ]
  },
  {
   "attachments": {},
   "cell_type": "markdown",
   "metadata": {},
   "source": [
    "<hr>"
   ]
  },
  {
   "attachments": {},
   "cell_type": "markdown",
   "metadata": {},
   "source": [
    "### Algorithm Calculator"
   ]
  },
  {
   "attachments": {},
   "cell_type": "markdown",
   "metadata": {},
   "source": [
    "Create an algorithm that calculates the sum of two numbers, then determines whether the sum is greater than or less than 100. (number oriented and creative)"
   ]
  },
  {
   "cell_type": "code",
   "execution_count": null,
   "metadata": {},
   "outputs": [],
   "source": [
    "# calculating 2 numbers part 1\n",
    "# user input of data numbers\n",
    "x = input(\"type a number:\")\n",
    "y = input(\"type your second number:\")\n",
    "# adding the numbers\n",
    "sum = int(x) + int(y)\n",
    "# printing the sum\n",
    "print(\"the sum is:\", sum)"
   ]
  },
  {
   "cell_type": "code",
   "execution_count": null,
   "metadata": {},
   "outputs": [],
   "source": [
    "# calculating 2 numbers and finding if it is less than or greater than 100\n",
    "x = input(\"type a number:\")\n",
    "y = input(\"type your second number:\")\n",
    "\n",
    "sum = int(x) + int(y)\n",
    "# if it is greater than\n",
    "if sum > 100:\n",
    "    print(\"the number is less than 100!\")\n",
    "# if it is less than\n",
    "else:\n",
    "    num = list(range(sum,101,1))\n",
    "    print(\"the number is more than 100\")"
   ]
  },
  {
   "attachments": {},
   "cell_type": "markdown",
   "metadata": {},
   "source": [
    "<hr>"
   ]
  },
  {
   "attachments": {},
   "cell_type": "markdown",
   "metadata": {},
   "source": [
    "### Flowcharts in Code"
   ]
  },
  {
   "attachments": {},
   "cell_type": "markdown",
   "metadata": {},
   "source": [
    "Create 3 different flow charts representing nested statements and transfer them into code."
   ]
  },
  {
   "attachments": {},
   "cell_type": "markdown",
   "metadata": {},
   "source": [
    "![1](https://user-images.githubusercontent.com/111661543/205826338-385e14fc-b0a3-45ee-b731-52dd7a8ba2a6.png)"
   ]
  },
  {
   "attachments": {},
   "cell_type": "markdown",
   "metadata": {},
   "source": [
    "**1**"
   ]
  },
  {
   "cell_type": "code",
   "execution_count": null,
   "metadata": {},
   "outputs": [],
   "source": [
    "weather = \"sunny\"\n",
    "temp = \"80\"\n",
    "if weather == \"sunny\":\n",
    "    if temp ==\"80\":\n",
    "        print(\"right weather wrong temp\")\n",
    "    elif temp ==\"80\":\n",
    "        print(\"right temp and right weather\")\n",
    "\n",
    "else:\n",
    "    if temp ==\"80\":\n",
    "        print(\"wrong weather wrong temp\")\n",
    "    elif temp ==\"80\":\n",
    "        print(\"wrong weather and right size\")\n"
   ]
  },
  {
   "attachments": {},
   "cell_type": "markdown",
   "metadata": {},
   "source": [
    "**2**"
   ]
  },
  {
   "cell_type": "code",
   "execution_count": null,
   "metadata": {},
   "outputs": [],
   "source": [
    "weather = \"cloudy\"\n",
    "temp = \"40\"\n",
    "if weather == \"cloudy\":\n",
    "    if temp ==\"40\":\n",
    "        print(\"right weather wrong temp\")\n",
    "    elif temp ==\"40\":\n",
    "        print(\"right temp and right weather\")\n",
    "\n",
    "else:\n",
    "    if temp ==\"40\":\n",
    "        print(\"wrong weather wrong temp\")\n",
    "    elif temp ==\"40\":\n",
    "        print(\"wrong weather and right size\")\n"
   ]
  },
  {
   "attachments": {},
   "cell_type": "markdown",
   "metadata": {},
   "source": [
    "**3**"
   ]
  },
  {
   "cell_type": "code",
   "execution_count": null,
   "metadata": {},
   "outputs": [],
   "source": [
    "if temp > 80:\n",
    "    if weather == \"hot\":\n",
    "        print(\"wear light clothes\")\n",
    "    elif store == \"cold\":\n",
    "        print(\"wear a jacket\")\n",
    "else:\n",
    "    print(\"no weather report today\")"
   ]
  },
  {
   "attachments": {},
   "cell_type": "markdown",
   "metadata": {},
   "source": [
    "<hr/>"
   ]
  },
  {
   "attachments": {},
   "cell_type": "markdown",
   "metadata": {},
   "source": [
    "### Four Statement Code"
   ]
  },
  {
   "attachments": {},
   "cell_type": "markdown",
   "metadata": {},
   "source": [
    "Create a piece of code that displays four statements instead of three. Try to do more if you can."
   ]
  },
  {
   "cell_type": "code",
   "execution_count": null,
   "metadata": {},
   "outputs": [],
   "source": [
    "# 4 statement code about weather\n",
    "if temp > 100:\n",
    "    if weather == \"cold\":\n",
    "        print(\"it will be cold today\")\n",
    "    elif clouds == \"rainy\":\n",
    "        print(\"bring an umbrella\")\n",
    "    elif sunny == \"it will be a nice day\":\n",
    "        print(\"go outside\")\n",
    "# if temp is < than 100\n",
    "else:\n",
    "    print(\"it's too hot\")"
   ]
  },
  {
   "attachments": {},
   "cell_type": "markdown",
   "metadata": {},
   "source": [
    "<hr/>"
   ]
  },
  {
   "attachments": {},
   "cell_type": "markdown",
   "metadata": {},
   "source": [
    "### Class Recommendations"
   ]
  },
  {
   "attachments": {},
   "cell_type": "markdown",
   "metadata": {},
   "source": [
    "Make piece of code that gives three different recommendations for possible classes to take at a school based on two different condtions. These conditions could be if the student likes STEM or not."
   ]
  },
  {
   "cell_type": "code",
   "execution_count": null,
   "metadata": {},
   "outputs": [],
   "source": [
    "# chosen classes\n",
    "STEM = True\n",
    "ART = True\n",
    "# if STEM was chosen\n",
    "if STEM:\n",
    "    print(\"APCalculus, APChem, APBiology\")\n",
    "# if ART was chosen\n",
    "elif ART:\n",
    "    print(\"APArtandDesign, APArtHistory, APMusicTheory \")"
   ]
  }
 ],
 "metadata": {
  "kernelspec": {
   "display_name": "Python 3",
   "language": "python",
   "name": "python3"
  },
  "language_info": {
   "name": "python",
   "version": "3.8.9 (default, Apr 13 2022, 08:48:06) \n[Clang 13.1.6 (clang-1316.0.21.2.5)]"
  },
  "orig_nbformat": 4,
  "vscode": {
   "interpreter": {
    "hash": "31f2aee4e71d21fbe5cf8b01ff0e069b9275f58929596ceb00d14d90e3e16cd6"
   }
  }
 },
 "nbformat": 4,
 "nbformat_minor": 2
}
